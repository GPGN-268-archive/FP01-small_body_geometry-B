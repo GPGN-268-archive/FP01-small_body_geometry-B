{
 "cells": [
  {
   "cell_type": "code",
   "execution_count": 1,
   "id": "fae953d2-357d-4546-8762-f45712ed6fbb",
   "metadata": {
    "tags": []
   },
   "outputs": [],
   "source": [
    "import matplotlib\n",
    "import matplotlib.pyplot as plt\n",
    "import pandas as pd\n",
    "import numpy as np\n",
    "from Data_functions import getData"
   ]
  },
  {
   "cell_type": "code",
   "execution_count": 2,
   "id": "c96d38b0-4e06-44dc-b371-7b53161cc269",
   "metadata": {
    "tags": []
   },
   "outputs": [],
   "source": [
    "points, faces = getData('../data/obj/Psyche Hanuš.obj')"
   ]
  },
  {
   "cell_type": "code",
   "execution_count": 3,
   "id": "d0b24cf1-bca0-463c-a4bc-6b9404ec3447",
   "metadata": {
    "tags": []
   },
   "outputs": [
    {
     "data": {
      "text/plain": [
       "0      0.323715\n",
       "1      0.334388\n",
       "2      0.334028\n",
       "3      0.321742\n",
       "4      0.317815\n",
       "         ...   \n",
       "397    0.289530\n",
       "398    0.333512\n",
       "399    0.281931\n",
       "400    0.244307\n",
       "401    0.281268\n",
       "Length: 402, dtype: float64"
      ]
     },
     "execution_count": 3,
     "metadata": {},
     "output_type": "execute_result"
    }
   ],
   "source": [
    "magnitude = np.sqrt(np.square(points['x'])+np.square(points['y'])+np.square(points['z']))\n",
    "magnitude"
   ]
  },
  {
   "cell_type": "code",
   "execution_count": 4,
   "id": "4f152f5e-a5df-4672-957b-152c87b8cacc",
   "metadata": {
    "tags": []
   },
   "outputs": [
    {
     "data": {
      "text/plain": [
       "0.37264929216701986"
      ]
     },
     "execution_count": 4,
     "metadata": {},
     "output_type": "execute_result"
    }
   ],
   "source": [
    "#a ratio of the smallest to largest radius\n",
    "\n",
    "radrat = magnitude.min()/magnitude.max()\n",
    "radrat"
   ]
  },
  {
   "cell_type": "markdown",
   "id": "f8fa00d2-9f84-43ad-85ef-c4a1e5b43f43",
   "metadata": {},
   "source": [
    "[shpericity](https://www.sciencedirect.com/science/article/pii/S1877750318304757#:~:text=A%20simplified%20sphericity%20index%20is,same%20volume%20as%20the%20object)\n",
    "\n",
    "$$ \\sqrt[3]{\\frac{\\text{min}^{2}}{\\text{max}*\\text{intermediate}}} $$"
   ]
  },
  {
   "cell_type": "code",
   "execution_count": 5,
   "id": "e647bc0e-30dc-45e0-a7b3-f4a88dc38e73",
   "metadata": {
    "tags": []
   },
   "outputs": [
    {
     "data": {
      "text/plain": [
       "0.32912077652335897"
      ]
     },
     "execution_count": 5,
     "metadata": {},
     "output_type": "execute_result"
    }
   ],
   "source": [
    "shpericity = (magnitude.min()**2/magnitude.max()*magnitude.median())**(1/3)\n",
    "shpericity"
   ]
  }
 ],
 "metadata": {
  "kernelspec": {
   "display_name": "Python 3 (ipykernel)",
   "language": "python",
   "name": "python3"
  },
  "language_info": {
   "codemirror_mode": {
    "name": "ipython",
    "version": 3
   },
   "file_extension": ".py",
   "mimetype": "text/x-python",
   "name": "python",
   "nbconvert_exporter": "python",
   "pygments_lexer": "ipython3",
   "version": "3.10.9"
  }
 },
 "nbformat": 4,
 "nbformat_minor": 5
}
